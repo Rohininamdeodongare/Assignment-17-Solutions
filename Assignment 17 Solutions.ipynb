{
 "cells": [
  {
   "cell_type": "code",
   "execution_count": null,
   "id": "48a5f2db",
   "metadata": {},
   "outputs": [],
   "source": [
    "            Assignment 17 Solutions"
   ]
  },
  {
   "cell_type": "code",
   "execution_count": 1,
   "id": "fc3f2bee",
   "metadata": {},
   "outputs": [
    {
     "name": "stdout",
     "output_type": "stream",
     "text": [
      "just Right\n",
      "too Low\n",
      "too High\n"
     ]
    }
   ],
   "source": [
    "Q.1. Assign the value 7 to the variable guess_me. Then, write the conditional tests \n",
    "(if, else, and elif) to print the string 'too low' if guess_me is less than 7, 'too high' \n",
    "if greater than 7, and 'just right' if equal to 7.\n",
    "#Answer:-\n",
    "def guess_me(guess_me):\n",
    "    if guess_me < 7:\n",
    "        print('too Low')\n",
    "    elif guess_me > 7:\n",
    "        print('too High')\n",
    "    else:\n",
    "        print('just Right')\n",
    "\n",
    "guess_me(guess_me=7)\n",
    "guess_me(guess_me=5)\n",
    "guess_me(guess_me=15)"
   ]
  },
  {
   "cell_type": "code",
   "execution_count": 2,
   "id": "b64bf171",
   "metadata": {},
   "outputs": [
    {
     "name": "stdout",
     "output_type": "stream",
     "text": [
      "too low\n",
      "too low\n",
      "too low\n",
      "too low\n",
      "too low\n",
      "too low\n",
      "found it\n"
     ]
    }
   ],
   "source": [
    "Q.2. Assign the value 7 to the variable guess_me and the value 1 to the variable start.\n",
    "Write a while loop that compares start with guess_me. \n",
    "Print too low if start is less than guess me. If start equals guess_me,\n",
    "print 'found it!' and exit the loop.\n",
    "If start is greater than guess_me, print 'oops' and exit the loop. \n",
    "Increment start at the end of the loop\n",
    "#Answer:-\n",
    "guess_me = 7\n",
    "start = 1\n",
    "while True:\n",
    "    if start < guess_me:\n",
    "        print('too low')\n",
    "    elif start == guess_me:\n",
    "        print('found it')\n",
    "        break\n",
    "    else:\n",
    "        print('oops')\n",
    "        break\n",
    "    start += 1"
   ]
  },
  {
   "cell_type": "code",
   "execution_count": 3,
   "id": "b715fa57",
   "metadata": {},
   "outputs": [
    {
     "name": "stdout",
     "output_type": "stream",
     "text": [
      "3\n",
      "2\n",
      "1\n",
      "0\n"
     ]
    }
   ],
   "source": [
    "3. Print the following values of the list [3, 2, 1, 0] using a for loop.\n",
    "#Answer:-\n",
    "in_list = [3,2,1,0]\n",
    "for ele in in_list:\n",
    "    print(ele)"
   ]
  },
  {
   "cell_type": "code",
   "execution_count": 4,
   "id": "2a7c5c52",
   "metadata": {},
   "outputs": [
    {
     "name": "stdout",
     "output_type": "stream",
     "text": [
      "[0, 2, 4, 6, 8, 10]\n"
     ]
    }
   ],
   "source": [
    "Q.4. Use a list comprehension to make a list of the even numbers in range(10)\n",
    "#Answer:-\n",
    "print([x for x in range(10+1) if x%2==0 ])"
   ]
  },
  {
   "cell_type": "code",
   "execution_count": 5,
   "id": "9fe8e96f",
   "metadata": {},
   "outputs": [
    {
     "name": "stdout",
     "output_type": "stream",
     "text": [
      "{0: 0, 1: 1, 2: 4, 3: 9, 4: 16, 5: 25, 6: 36, 7: 49, 8: 64, 9: 81}\n",
      "{0: 0, 1: 1, 2: 4, 3: 9, 4: 16, 5: 25, 6: 36, 7: 49, 8: 64, 9: 81}\n"
     ]
    }
   ],
   "source": [
    "Q5. Use a dictionary comprehension to create the dictionary squares. \n",
    "Use range(10) to return the keys, and use the square of each key as its value.\n",
    "#Answer:-\n",
    "# Method 1\n",
    "print(dict([(x,pow(x,2)) for x in range(10)]))\n",
    "# Method 2\n",
    "print({x:x**2 for x in range(10)})"
   ]
  },
  {
   "cell_type": "code",
   "execution_count": 6,
   "id": "5b02d968",
   "metadata": {},
   "outputs": [
    {
     "name": "stdout",
     "output_type": "stream",
     "text": [
      "{1, 3, 5, 7, 9}\n"
     ]
    }
   ],
   "source": [
    "Q6. Construct the set odd from the odd numbers in the range using a set comprehension (10).\n",
    "#Answer:-\n",
    "print({x for x in range(10) if x%2 !=0})"
   ]
  },
  {
   "cell_type": "code",
   "execution_count": 7,
   "id": "4a240d87",
   "metadata": {},
   "outputs": [
    {
     "name": "stdout",
     "output_type": "stream",
     "text": [
      "Got_0 Got_1 Got_2 Got_3 Got_4 Got_5 Got_6 Got_7 Got_8 Got_9 "
     ]
    }
   ],
   "source": [
    "Q.7. Use a generator comprehension to return the string 'Got ' and a number \n",
    "for the numbers in range(10). Iterate through this by using a for loop\n",
    "#Answer:-\n",
    "gen_com = ('Got_'+str(x) for x in range(10))\n",
    "for ele in gen_com:\n",
    "    print(ele, end=' ')"
   ]
  },
  {
   "cell_type": "code",
   "execution_count": 8,
   "id": "742ab71c",
   "metadata": {},
   "outputs": [
    {
     "name": "stdout",
     "output_type": "stream",
     "text": [
      "['Harry', 'Ron', 'Hermione']\n"
     ]
    }
   ],
   "source": [
    "Q.8. Define a function called good that returns the list ['Harry', 'Ron', 'Hermione'].\n",
    "#Answer:-\n",
    "def good():\n",
    "    x =  ['Harry', 'Ron', 'Hermione']\n",
    "    return x\n",
    "print(good())"
   ]
  },
  {
   "cell_type": "code",
   "execution_count": 9,
   "id": "5395bfad",
   "metadata": {},
   "outputs": [
    {
     "data": {
      "text/plain": [
       "5"
      ]
     },
     "execution_count": 9,
     "metadata": {},
     "output_type": "execute_result"
    }
   ],
   "source": [
    "Q9. Define a generator function called get_odds that\n",
    "returns the odd numbers from range(10). Use a for loop to find and print the third value returned.\n",
    "#Answer\n",
    "def get_odds():\n",
    "    output = []\n",
    "    for ele in range(10):\n",
    "        if ele%2 != 0:\n",
    "            output.append(ele)\n",
    "    yield output\n",
    "\n",
    "next(get_odds())[2]"
   ]
  },
  {
   "cell_type": "code",
   "execution_count": 12,
   "id": "d4d3aa55",
   "metadata": {},
   "outputs": [
    {
     "name": "stdout",
     "output_type": "stream",
     "text": [
      "Caught in Oops -> name 'a' is not defined\n"
     ]
    }
   ],
   "source": [
    "Q10. Define an exception called OopsException.\n",
    "Raise this exception to see what happens. \n",
    "Then write the code to catch this exception and print 'Caught an oops'.\n",
    "#Answer:-\n",
    "class OopsException(Exception):\n",
    "    pass\n",
    "\n",
    "def test(input):\n",
    "    if input <0:\n",
    "        raise OopsException(a)\n",
    "try:\n",
    "    test(-100)\n",
    "except Exception as e:\n",
    "    print('Caught in Oops ->',e)"
   ]
  },
  {
   "cell_type": "code",
   "execution_count": 13,
   "id": "c6e92cc5",
   "metadata": {},
   "outputs": [
    {
     "name": "stdout",
     "output_type": "stream",
     "text": [
      "{'Creature of Habit': 'A nun turns into a monster', 'Crewel Fate': 'A haunted yarn shop'}\n"
     ]
    }
   ],
   "source": [
    "Q.11. Use zip() to make a dictionary called movies that pairs these lists:\n",
    "    titles = ['Creature of Habit', 'Crewel Fate'] and plots = ['A nun turns into a monster', 'A haunted yarn shop'].\n",
    "#Answer\n",
    "\n",
    "titles = ['Creature of Habit', 'Crewel Fate']\n",
    "plots = ['A nun turns into a monster', 'A haunted yarn shop']\n",
    "output = dict(zip(titles,plots))\n",
    "print(output)"
   ]
  },
  {
   "cell_type": "code",
   "execution_count": null,
   "id": "270bd278",
   "metadata": {},
   "outputs": [],
   "source": []
  }
 ],
 "metadata": {
  "kernelspec": {
   "display_name": "Python 3 (ipykernel)",
   "language": "python",
   "name": "python3"
  },
  "language_info": {
   "codemirror_mode": {
    "name": "ipython",
    "version": 3
   },
   "file_extension": ".py",
   "mimetype": "text/x-python",
   "name": "python",
   "nbconvert_exporter": "python",
   "pygments_lexer": "ipython3",
   "version": "3.9.12"
  }
 },
 "nbformat": 4,
 "nbformat_minor": 5
}
